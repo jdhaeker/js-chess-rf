{
  "cells": [
    {
      "cell_type": "markdown",
      "metadata": {
        "id": "view-in-github",
        "colab_type": "text"
      },
      "source": [
        "<a href=\"https://colab.research.google.com/github/jdhaeker/js-chess-rf/blob/main/Exercises/01_Classification.ipynb\" target=\"_parent\"><img src=\"https://colab.research.google.com/assets/colab-badge.svg\" alt=\"Open In Colab\"/></a>"
      ]
    },
    {
      "cell_type": "markdown",
      "metadata": {
        "id": "rkmNFsqde4Iv"
      },
      "source": [
        "# Exercise 1\n",
        "\n",
        "File name convention: For group 42 and memebers Richard Stallman and Linus <br> Torvalds it would be: <br>\n",
        "\"Exercise1_Goup42_Stallman_Torvalds.pdf\".\n",
        "\n",
        "Submission via blackboard."
      ]
    },
    {
      "cell_type": "code",
      "execution_count": 4,
      "metadata": {
        "ExecuteTime": {
          "end_time": "2022-01-10T01:53:39.046719Z",
          "start_time": "2022-01-10T01:53:39.044560Z"
        },
        "id": "WxT4T3P9e4Ix"
      },
      "outputs": [],
      "source": [
        "group_name = \"Group 13\"\n",
        "group_members = [\"Zach Nesnidal\",\n",
        "                 \"Josh Haeker\",\n",
        "                 \"Ryan Goldsmith\"]"
      ]
    },
    {
      "cell_type": "markdown",
      "metadata": {
        "id": "HuPNrDmfe4Iy"
      },
      "source": [
        "**Chapter 3 – Classification**"
      ]
    },
    {
      "cell_type": "markdown",
      "metadata": {
        "id": "Lq987FoZe4Iz"
      },
      "source": [
        "# Setup"
      ]
    },
    {
      "cell_type": "markdown",
      "metadata": {
        "id": "9jsj-E_re4Iz"
      },
      "source": [
        "First, let's **import a few common modules**, ensure MatplotLib plots figures <br> inline, and prepare a function to save the figures. We also check that Python 3.5 <br>\n",
        "or later is installed (although Python 2.x may work, it is deprecated so we <br>\n",
        "strongly recommend you use Python 3 instead), as well as Scikit-Learn ≥0.20."
      ]
    },
    {
      "cell_type": "code",
      "execution_count": null,
      "metadata": {
        "ExecuteTime": {
          "end_time": "2022-01-10T01:54:19.845061Z",
          "start_time": "2022-01-10T01:54:16.632650Z"
        },
        "id": "PNj-zH8We4Iz"
      },
      "outputs": [],
      "source": [
        "# Python ≥3.5 is required\n",
        "import sys\n",
        "assert sys.version_info >= (3, 5)\n",
        "\n",
        "# Scikit-Learn ≥0.20 is required\n",
        "import sklearn\n",
        "assert sklearn.__version__ >= \"0.20\"\n",
        "\n",
        "# Common imports\n",
        "import numpy as np\n",
        "import os\n",
        "\n",
        "# to make this notebook's output stable across runs\n",
        "np.random.seed(42)\n",
        "\n",
        "# To plot pretty figures\n",
        "%matplotlib inline\n",
        "import matplotlib as mpl\n",
        "import matplotlib.pyplot as plt\n",
        "mpl.rc('axes', labelsize=14)\n",
        "mpl.rc('xtick', labelsize=12)\n",
        "mpl.rc('ytick', labelsize=12)"
      ]
    },
    {
      "cell_type": "markdown",
      "metadata": {
        "id": "qKiPzIBXe4I0"
      },
      "source": [
        "# MNIST\n",
        "\n",
        "Next, let's **import the MNIST dataset** we saw in PythonRefreshers_3. As a <br>\n",
        "reminder, this is a dataset of **70,000 handwritten characters stored in 28x28** <br>\n",
        "**pixel images**."
      ]
    },
    {
      "cell_type": "code",
      "execution_count": null,
      "metadata": {
        "ExecuteTime": {
          "end_time": "2022-01-10T01:55:02.842629Z",
          "start_time": "2022-01-10T01:54:19.847889Z"
        },
        "colab": {
          "base_uri": "https://localhost:8080/"
        },
        "id": "jp1M_-1he4I0",
        "outputId": "fabd4701-044c-42fc-ae8a-574522e002c5"
      },
      "outputs": [
        {
          "output_type": "execute_result",
          "data": {
            "text/plain": [
              "dict_keys(['data', 'target', 'frame', 'categories', 'feature_names', 'target_names', 'DESCR', 'details', 'url'])"
            ]
          },
          "metadata": {},
          "execution_count": 3
        }
      ],
      "source": [
        "from sklearn.datasets import fetch_openml\n",
        "mnist = fetch_openml('mnist_784', version=1)\n",
        "mnist.keys()"
      ]
    },
    {
      "cell_type": "markdown",
      "source": [
        "# $←$ Run this cell block if the OpenML servers are down"
      ],
      "metadata": {
        "id": "V-MpRr1Xzrqa"
      }
    },
    {
      "cell_type": "code",
      "source": [
        "import tensorflow as tf\n",
        "from sklearn.utils import Bunch\n",
        "import pandas as pd\n",
        "\n",
        "def mnist_tf_keras():\n",
        "    # Load the MNIST dataset using TensorFlow\n",
        "    (x_train, y_train), (x_test, y_test) = tf.keras.datasets.mnist.load_data()\n",
        "\n",
        "    # Combine training and testing data\n",
        "    x_data = tf.concat([x_train, x_test], axis=0)\n",
        "    y_data = tf.concat([y_train, y_test], axis=0)\n",
        "\n",
        "    # Flatten the images into vectors\n",
        "    x_data_flat = x_data.numpy().reshape(len(x_data), -1)\n",
        "\n",
        "    # Create a DataFrame for the feature data\n",
        "    feature_names = [f\"pixel{i}\" for i in range(x_data_flat.shape[1])]\n",
        "    x_df = pd.DataFrame(x_data_flat, columns=feature_names)\n",
        "\n",
        "    # Create a DataFrame for the target data\n",
        "    y_df = pd.DataFrame(y_data.numpy(), columns=[\"target\"]).iloc[:,0].astype(np.uint8)\n",
        "\n",
        "    # Combine features and target into a single DataFrame\n",
        "    data_frame = pd.concat([x_df, y_df], axis=0)\n",
        "\n",
        "    # Prepare a description for metadata\n",
        "    description = \"This dataset contains 70,000 images of handwritten digits (0-9) from the MNIST dataset. Each image is 28x28 pixels, flattened into a 784-dimensional vector.\"\n",
        "\n",
        "    # Create a Bunch object similar to the sklearn's fetch_openml output\n",
        "    return Bunch(\n",
        "        data=x_df,\n",
        "        target=y_df,\n",
        "        feature_names=feature_names,\n",
        "        frame=data_frame,\n",
        "        target_names=[\"digit_class\"],\n",
        "        DESCR=description,\n",
        "    )\n",
        "\n",
        "\n",
        "    return mnist\n",
        "\n",
        "mnist = mnist_tf_keras()"
      ],
      "metadata": {
        "id": "fEnaIuWMzy-H",
        "colab": {
          "base_uri": "https://localhost:8080/"
        },
        "outputId": "18b5fe9b-6fe1-4a72-e6eb-dd6bc834dad3"
      },
      "execution_count": 5,
      "outputs": [
        {
          "output_type": "stream",
          "name": "stdout",
          "text": [
            "Downloading data from https://storage.googleapis.com/tensorflow/tf-keras-datasets/mnist.npz\n",
            "\u001b[1m11490434/11490434\u001b[0m \u001b[32m━━━━━━━━━━━━━━━━━━━━\u001b[0m\u001b[37m\u001b[0m \u001b[1m0s\u001b[0m 0us/step\n"
          ]
        }
      ]
    },
    {
      "cell_type": "markdown",
      "source": [
        "# If the OpenML servers worked then continue from here"
      ],
      "metadata": {
        "id": "vPvXm6m115BZ"
      }
    },
    {
      "cell_type": "markdown",
      "source": [
        "We'll need the `data` of 28x28 pixel images and `target` of number labels 0-9 <br>\n",
        "for this exercise."
      ],
      "metadata": {
        "id": "ZW8J2RiMf-Ke"
      }
    },
    {
      "cell_type": "code",
      "execution_count": 6,
      "metadata": {
        "ExecuteTime": {
          "end_time": "2022-01-10T02:00:36.982978Z",
          "start_time": "2022-01-10T02:00:36.979983Z"
        },
        "id": "qVEegiP1e4I1"
      },
      "outputs": [],
      "source": [
        "X, y = mnist[\"data\"], mnist[\"target\"]"
      ]
    },
    {
      "cell_type": "markdown",
      "source": [
        "X is a pandas dataframe but we'll eventually want to work with a numpy array of <br>\n",
        "the pixel values, which we can get later using `X.values`."
      ],
      "metadata": {
        "id": "u5jNGoxcgaMs"
      }
    },
    {
      "cell_type": "code",
      "execution_count": 7,
      "metadata": {
        "ExecuteTime": {
          "end_time": "2022-01-10T02:00:37.437578Z",
          "start_time": "2022-01-10T02:00:37.434766Z"
        },
        "colab": {
          "base_uri": "https://localhost:8080/"
        },
        "id": "GcSG8js0e4I1",
        "outputId": "b4faa74e-c24f-4b70-a2b1-20c1f16c0527"
      },
      "outputs": [
        {
          "output_type": "stream",
          "name": "stdout",
          "text": [
            "<class 'pandas.core.frame.DataFrame'>\n",
            "(70000, 784)\n"
          ]
        }
      ],
      "source": [
        "print(type(X))\n",
        "print(X.shape)"
      ]
    },
    {
      "cell_type": "code",
      "execution_count": 8,
      "metadata": {
        "ExecuteTime": {
          "end_time": "2022-01-10T01:56:26.253034Z",
          "start_time": "2022-01-10T01:56:26.248595Z"
        },
        "colab": {
          "base_uri": "https://localhost:8080/"
        },
        "id": "i7rNN_n4e4I2",
        "outputId": "b8bfa747-b602-40f3-86fa-691cff7a6e44"
      },
      "outputs": [
        {
          "output_type": "execute_result",
          "data": {
            "text/plain": [
              "(70000,)"
            ]
          },
          "metadata": {},
          "execution_count": 8
        }
      ],
      "source": [
        "y.shape"
      ]
    },
    {
      "cell_type": "code",
      "execution_count": 9,
      "metadata": {
        "ExecuteTime": {
          "end_time": "2022-01-10T01:56:51.429142Z",
          "start_time": "2022-01-10T01:56:51.425887Z"
        },
        "colab": {
          "base_uri": "https://localhost:8080/"
        },
        "id": "NkW3Yuqoe4I2",
        "outputId": "4368557b-9395-4692-f411-fa4f1ea972ec"
      },
      "outputs": [
        {
          "output_type": "execute_result",
          "data": {
            "text/plain": [
              "784"
            ]
          },
          "metadata": {},
          "execution_count": 9
        }
      ],
      "source": [
        "# the images are 28x28 pixels\n",
        "28 * 28"
      ]
    },
    {
      "cell_type": "markdown",
      "source": [
        "We can create a function that implements the `imshow` function from matplotlib <br>\n",
        "so that we can visualize the handwritten characters."
      ],
      "metadata": {
        "id": "mNYd6Mctg-p8"
      }
    },
    {
      "cell_type": "code",
      "execution_count": 10,
      "metadata": {
        "ExecuteTime": {
          "end_time": "2022-01-10T01:58:08.508030Z",
          "start_time": "2022-01-10T01:58:08.505167Z"
        },
        "id": "8TjPRx0le4I2"
      },
      "outputs": [],
      "source": [
        "import matplotlib as mpl\n",
        "import matplotlib.pyplot as plt\n",
        "\n",
        "def plot_digit(data):\n",
        "    image = data.reshape(28, 28)\n",
        "    plt.imshow(image, cmap = mpl.cm.binary,\n",
        "               interpolation=\"nearest\")\n",
        "    plt.axis(\"off\")"
      ]
    },
    {
      "cell_type": "markdown",
      "source": [
        "Here's an example of how we would use the function we just made. Note how it <br>\n",
        "requires a numpy array which we get using `.values`. We can use `%matplotlib` <br>\n",
        "`inline` to get our plots to show up below the current cell without having to <br>\n",
        "repeatedly use `plt.show()`."
      ],
      "metadata": {
        "id": "1VyPEt8Bhrcz"
      }
    },
    {
      "cell_type": "code",
      "execution_count": 11,
      "metadata": {
        "ExecuteTime": {
          "end_time": "2022-01-10T02:01:33.770390Z",
          "start_time": "2022-01-10T02:01:33.708820Z"
        },
        "colab": {
          "base_uri": "https://localhost:8080/",
          "height": 406
        },
        "id": "9hceK3DWe4I3",
        "outputId": "286499a2-3f32-462c-9a1c-8d78c0d803d5"
      },
      "outputs": [
        {
          "output_type": "display_data",
          "data": {
            "text/plain": [
              "<Figure size 640x480 with 1 Axes>"
            ],
            "image/png": "[encoded data removed]"
          },
          "metadata": {}
        }
      ],
      "source": [
        "%matplotlib inline\n",
        "\n",
        "# to get the values of the dataframe X, call X.values.\n",
        "# X.values[0] gives the pixel values for the first image\n",
        "plot_digit(X.values[0])"
      ]
    },
    {
      "cell_type": "markdown",
      "source": [
        "Don't worry about how the function `plot_digits` below works. This is just <br> one way we can visualize a subset of our X values (handwritten characters)."
      ],
      "metadata": {
        "id": "7jdqlK1N48z8"
      }
    },
    {
      "cell_type": "code",
      "execution_count": 12,
      "metadata": {
        "ExecuteTime": {
          "end_time": "2022-01-10T02:02:08.765565Z",
          "start_time": "2022-01-10T02:02:08.757789Z"
        },
        "id": "c8ZrmL_d3OBu"
      },
      "outputs": [],
      "source": [
        "def plot_digits(instances, images_per_row=10, **options):\n",
        "    size = 28\n",
        "    images_per_row = min(len(instances), images_per_row)\n",
        "    images = [instance.reshape(size,size) for instance in instances]\n",
        "    n_rows = (len(instances) - 1) // images_per_row + 1\n",
        "    row_images = []\n",
        "    n_empty = n_rows * images_per_row - len(instances)\n",
        "    images.append(np.zeros((size, size * n_empty)))\n",
        "    for row in range(n_rows):\n",
        "        rimages = images[row * images_per_row : (row + 1) * images_per_row]\n",
        "        row_images.append(np.concatenate(rimages, axis=1))\n",
        "    image = np.concatenate(row_images, axis=0)\n",
        "    plt.imshow(image, cmap = mpl.cm.binary, **options)\n",
        "    plt.axis(\"off\")"
      ]
    },
    {
      "cell_type": "code",
      "execution_count": 13,
      "metadata": {
        "ExecuteTime": {
          "end_time": "2022-01-10T02:02:09.411927Z",
          "start_time": "2022-01-10T02:02:09.291466Z"
        },
        "id": "lYrhqFM63OBu",
        "outputId": "dfeaaa2d-b3ef-41c8-bc26-5d75c90dd9a3",
        "colab": {
          "base_uri": "https://localhost:8080/",
          "height": 730
        }
      },
      "outputs": [
        {
          "output_type": "display_data",
          "data": {
            "text/plain": [
              "<Figure size 900x900 with 1 Axes>"
            ],
            "image/png": "[encoded data removed]"
          },
          "metadata": {}
        }
      ],
      "source": [
        "plt.figure(figsize=(9,9))\n",
        "example_images = X[:100].values\n",
        "plot_digits(example_images, images_per_row=10)\n",
        "plt.show()"
      ]
    },
    {
      "cell_type": "markdown",
      "source": [
        "Notice how **the type of our labels is a string by default**, but we can convert <br>\n",
        "this to a collection of integers instead."
      ],
      "metadata": {
        "id": "afJZD7RIi1-l"
      }
    },
    {
      "cell_type": "code",
      "execution_count": 14,
      "metadata": {
        "ExecuteTime": {
          "end_time": "2022-01-10T02:02:05.234303Z",
          "start_time": "2022-01-10T02:02:05.226839Z"
        },
        "colab": {
          "base_uri": "https://localhost:8080/"
        },
        "id": "2Hh4AsCZe4I3",
        "outputId": "1cb162f5-616b-4cf5-9cc9-e1413e43305f"
      },
      "outputs": [
        {
          "output_type": "stream",
          "name": "stdout",
          "text": [
            "<class 'numpy.uint8'>\n",
            "5\n"
          ]
        }
      ],
      "source": [
        "print(type(y[0]))\n",
        "print(y[0])"
      ]
    },
    {
      "cell_type": "code",
      "execution_count": 15,
      "metadata": {
        "ExecuteTime": {
          "end_time": "2022-01-10T02:02:06.057368Z",
          "start_time": "2022-01-10T02:02:06.052027Z"
        },
        "colab": {
          "base_uri": "https://localhost:8080/"
        },
        "id": "0om9PEgSe4I3",
        "outputId": "2acda626-9d1c-42e3-bdc8-fea7036c99f5"
      },
      "outputs": [
        {
          "output_type": "execute_result",
          "data": {
            "text/plain": [
              "numpy.uint8"
            ]
          },
          "metadata": {},
          "execution_count": 15
        }
      ],
      "source": [
        "y = y.astype(np.uint8)\n",
        "type(y[0])"
      ]
    },
    {
      "cell_type": "markdown",
      "source": [
        "In chapter 1 you were introduced to the idea of a **train** and **test** set. Since <br>\n",
        "**this dataset is already randomly shuffled**, we can get our train and test sets by <br>\n",
        "just selecting the **first 60,000 characters and labels for training** and the **last** <br>\n",
        "**10,000 for testing**."
      ],
      "metadata": {
        "id": "oDgstGl_jawe"
      }
    },
    {
      "cell_type": "code",
      "execution_count": 16,
      "metadata": {
        "ExecuteTime": {
          "end_time": "2022-01-10T02:02:20.551783Z",
          "start_time": "2022-01-10T02:02:20.548544Z"
        },
        "id": "EWe17nYte4I4"
      },
      "outputs": [],
      "source": [
        "X_train, X_test, y_train, y_test = X[:60000], X[60000:], y[:60000], y[60000:]"
      ]
    },
    {
      "cell_type": "markdown",
      "metadata": {
        "id": "JRDAb8ade4I5"
      },
      "source": [
        "# Binary classifier\n",
        "Let's train a classifier to predict whether a given digit is a 5 or not. <br>\n",
        "\n",
        "To start with, we'll create a sub-set of our data that is either True or False <br>\n",
        "depending on whether the label value is 5. **Many functions can treat True and <br> False as 0 or**\n",
        "**1 values**."
      ]
    },
    {
      "cell_type": "code",
      "execution_count": 17,
      "metadata": {
        "ExecuteTime": {
          "end_time": "2022-01-10T02:37:29.079858Z",
          "start_time": "2022-01-10T02:37:29.076438Z"
        },
        "id": "HXD-hpDHe4I5"
      },
      "outputs": [],
      "source": [
        "y_train_5 = (y_train == 5)\n",
        "y_test_5 = (y_test == 5)"
      ]
    },
    {
      "cell_type": "code",
      "source": [
        "print(y_train_5[:10]) # Visualize first 10 samples of the training set"
      ],
      "metadata": {
        "colab": {
          "base_uri": "https://localhost:8080/"
        },
        "id": "bppiAIPOjHWr",
        "outputId": "48b0d4ab-6cd5-4b3b-9108-1c50176860a9"
      },
      "execution_count": 18,
      "outputs": [
        {
          "output_type": "stream",
          "name": "stdout",
          "text": [
            "0     True\n",
            "1    False\n",
            "2    False\n",
            "3    False\n",
            "4    False\n",
            "5    False\n",
            "6    False\n",
            "7    False\n",
            "8    False\n",
            "9    False\n",
            "Name: target, dtype: bool\n"
          ]
        }
      ]
    },
    {
      "cell_type": "code",
      "source": [
        "print(y_test_5[:10]) # Visualize first 10 samples of the test set"
      ],
      "metadata": {
        "colab": {
          "base_uri": "https://localhost:8080/"
        },
        "id": "cQtx4sFrjDqd",
        "outputId": "6f53288c-aef5-46f5-db68-a762903af61d"
      },
      "execution_count": 19,
      "outputs": [
        {
          "output_type": "stream",
          "name": "stdout",
          "text": [
            "60000    False\n",
            "60001    False\n",
            "60002    False\n",
            "60003    False\n",
            "60004    False\n",
            "60005    False\n",
            "60006    False\n",
            "60007    False\n",
            "60008     True\n",
            "60009    False\n",
            "Name: target, dtype: bool\n"
          ]
        }
      ]
    },
    {
      "cell_type": "markdown",
      "metadata": {
        "id": "T0UDLFG0e4I5"
      },
      "source": [
        "## Task 1: SGD Classifier\n",
        "\n",
        "SGD (Stochastic Gradient Descent) Classifier is a linear model which gradually <br>\n",
        "attempts to decrease its loss by evaluating the way that changes made to the <br>\n",
        "model weights affect the gradient of the loss value.\n",
        "\n",
        "1) Create an [SGD Classifier](https://scikit-learn.org/stable/modules/generated/sklearn.linear_model.SGDClassifier.html) `sgd_clf` with the following hyperparameters:<br>\n",
        "- `max_iter=1000`: This sets the maximum number of times the model will see <br>\n",
        "the whole dataset during training. <br>\n",
        "- `tol=1e-3`: This sets a stopping condition that, when your loss is greater <br>\n",
        "than your best loss minus tol, it will stop training.<br>\n",
        "- `random_state=42`: This will ensure that you will get the same results every <br>\n",
        "time you run the training algorithm.<br>\n",
        "\n",
        "2) Fit the classifier by calling its `fit` function with `X_train` and <br> `y_train_5` as the parameters. This might take a while."
      ]
    },
    {
      "cell_type": "code",
      "execution_count": 20,
      "metadata": {
        "ExecuteTime": {
          "end_time": "2022-01-10T02:37:31.821393Z",
          "start_time": "2022-01-10T02:37:31.819211Z"
        },
        "id": "_08o9jWie4I5"
      },
      "outputs": [],
      "source": [
        "from sklearn.linear_model import SGDClassifier"
      ]
    },
    {
      "cell_type": "code",
      "execution_count": 21,
      "metadata": {
        "ExecuteTime": {
          "end_time": "2022-01-10T02:37:32.787095Z",
          "start_time": "2022-01-10T02:37:32.784826Z"
        },
        "id": "2kNISe5Pe4I6"
      },
      "outputs": [],
      "source": [
        "# your code goes below\n",
        "max_iter = 1000\n",
        "tol = 1e-3\n",
        "random_state = 42\n",
        "\n",
        "sgd_clf = SGDClassifier(max_iter = max_iter, tol = tol, random_state = random_state)"
      ]
    },
    {
      "cell_type": "code",
      "execution_count": 22,
      "metadata": {
        "id": "NQbn2h8pe4I6",
        "outputId": "c1bcfbaf-0fed-4c5a-b8a0-fd45f73b1a9a",
        "colab": {
          "base_uri": "https://localhost:8080/",
          "height": 80
        }
      },
      "outputs": [
        {
          "output_type": "execute_result",
          "data": {
            "text/plain": [
              "SGDClassifier(random_state=42)"
            ],
            "text/html": [
              "<style>#sk-container-id-1 {\n",
              "  /* Definition of color scheme common for light and dark mode */\n",
              "  --sklearn-color-text: #000;\n",
              "  --sklearn-color-text-muted: #666;\n",
              "  --sklearn-color-line: gray;\n",
              "  /* Definition of color scheme for unfitted estimators */\n",
              "  --sklearn-color-unfitted-level-0: #fff5e6;\n",
              "  --sklearn-color-unfitted-level-1: #f6e4d2;\n",
              "  --sklearn-color-unfitted-level-2: #ffe0b3;\n",
              "  --sklearn-color-unfitted-level-3: chocolate;\n",
              "  /* Definition of color scheme for fitted estimators */\n",
              "  --sklearn-color-fitted-level-0: #f0f8ff;\n",
              "  --sklearn-color-fitted-level-1: #d4ebff;\n",
              "  --sklearn-color-fitted-level-2: #b3dbfd;\n",
              "  --sklearn-color-fitted-level-3: cornflowerblue;\n",
              "\n",
              "  /* Specific color for light theme */\n",
              "  --sklearn-color-text-on-default-background: var(--sg-text-color, var(--theme-code-foreground, var(--jp-content-font-color1, black)));\n",
              "  --sklearn-color-background: var(--sg-background-color, var(--theme-background, var(--jp-layout-color0, white)));\n",
              "  --sklearn-color-border-box: var(--sg-text-color, var(--theme-code-foreground, var(--jp-content-font-color1, black)));\n",
              "  --sklearn-color-icon: #696969;\n",
              "\n",
              "  @media (prefers-color-scheme: dark) {\n",
              "    /* Redefinition of color scheme for dark theme */\n",
              "    --sklearn-color-text-on-default-background: var(--sg-text-color, var(--theme-code-foreground, var(--jp-content-font-color1, white)));\n",
              "    --sklearn-color-background: var(--sg-background-color, var(--theme-background, var(--jp-layout-color0, #111)));\n",
              "    --sklearn-color-border-box: var(--sg-text-color, var(--theme-code-foreground, var(--jp-content-font-color1, white)));\n",
              "    --sklearn-color-icon: #878787;\n",
              "  }\n",
              "}\n",
              "\n",
              "#sk-container-id-1 {\n",
              "  color: var(--sklearn-color-text);\n",
              "}\n",
              "\n",
              "#sk-container-id-1 pre {\n",
              "  padding: 0;\n",
              "}\n",
              "\n",
              "#sk-container-id-1 input.sk-hidden--visually {\n",
              "  border: 0;\n",
              "  clip: rect(1px 1px 1px 1px);\n",
              "  clip: rect(1px, 1px, 1px, 1px);\n",
              "  height: 1px;\n",
              "  margin: -1px;\n",
              "  overflow: hidden;\n",
              "  padding: 0;\n",
              "  position: absolute;\n",
              "  width: 1px;\n",
              "}\n",
              "\n",
              "#sk-container-id-1 div.sk-dashed-wrapped {\n",
              "  border: 1px dashed var(--sklearn-color-line);\n",
              "  margin: 0 0.4em 0.5em 0.4em;\n",
              "  box-sizing: border-box;\n",
              "  padding-bottom: 0.4em;\n",
              "  background-color: var(--sklearn-color-background);\n",
              "}\n",
              "\n",
              "#sk-container-id-1 div.sk-container {\n",
              "  /* jupyter's `normalize.less` sets `[hidden] { display: none; }`\n",
              "     but bootstrap.min.css set `[hidden] { display: none !important; }`\n",
              "     so we also need the `!important` here to be able to override the\n",
              "     default hidden behavior on the sphinx rendered scikit-learn.org.\n",
              "     See: https://github.com/scikit-learn/scikit-learn/issues/21755 */\n",
              "  display: inline-block !important;\n",
              "  position: relative;\n",
              "}\n",
              "\n",
              "#sk-container-id-1 div.sk-text-repr-fallback {\n",
              "  display: none;\n",
              "}\n",
              "\n",
              "div.sk-parallel-item,\n",
              "div.sk-serial,\n",
              "div.sk-item {\n",
              "  /* draw centered vertical line to link estimators */\n",
              "  background-image: linear-gradient(var(--sklearn-color-text-on-default-background), var(--sklearn-color-text-on-default-background));\n",
              "  background-size: 2px 100%;\n",
              "  background-repeat: no-repeat;\n",
              "  background-position: center center;\n",
              "}\n",
              "\n",
              "/* Parallel-specific style estimator block */\n",
              "\n",
              "#sk-container-id-1 div.sk-parallel-item::after {\n",
              "  content: \"\";\n",
              "  width: 100%;\n",
              "  border-bottom: 2px solid var(--sklearn-color-text-on-default-background);\n",
              "  flex-grow: 1;\n",
              "}\n",
              "\n",
              "#sk-container-id-1 div.sk-parallel {\n",
              "  display: flex;\n",
              "  align-items: stretch;\n",
              "  justify-content: center;\n",
              "  background-color: var(--sklearn-color-background);\n",
              "  position: relative;\n",
              "}\n",
              "\n",
              "#sk-container-id-1 div.sk-parallel-item {\n",
              "  display: flex;\n",
              "  flex-direction: column;\n",
              "}\n",
              "\n",
              "#sk-container-id-1 div.sk-parallel-item:first-child::after {\n",
              "  align-self: flex-end;\n",
              "  width: 50%;\n",
              "}\n",
              "\n",
              "#sk-container-id-1 div.sk-parallel-item:last-child::after {\n",
              "  align-self: flex-start;\n",
              "  width: 50%;\n",
              "}\n",
              "\n",
              "#sk-container-id-1 div.sk-parallel-item:only-child::after {\n",
              "  width: 0;\n",
              "}\n",
              "\n",
              "/* Serial-specific style estimator block */\n",
              "\n",
              "#sk-container-id-1 div.sk-serial {\n",
              "  display: flex;\n",
              "  flex-direction: column;\n",
              "  align-items: center;\n",
              "  background-color: var(--sklearn-color-background);\n",
              "  padding-right: 1em;\n",
              "  padding-left: 1em;\n",
              "}\n",
              "\n",
              "\n",
              "/* Toggleable style: style used for estimator/Pipeline/ColumnTransformer box that is\n",
              "clickable and can be expanded/collapsed.\n",
              "- Pipeline and ColumnTransformer use this feature and define the default style\n",
              "- Estimators will overwrite some part of the style using the `sk-estimator` class\n",
              "*/\n",
              "\n",
              "/* Pipeline and ColumnTransformer style (default) */\n",
              "\n",
              "#sk-container-id-1 div.sk-toggleable {\n",
              "  /* Default theme specific background. It is overwritten whether we have a\n",
              "  specific estimator or a Pipeline/ColumnTransformer */\n",
              "  background-color: var(--sklearn-color-background);\n",
              "}\n",
              "\n",
              "/* Toggleable label */\n",
              "#sk-container-id-1 label.sk-toggleable__label {\n",
              "  cursor: pointer;\n",
              "  display: flex;\n",
              "  width: 100%;\n",
              "  margin-bottom: 0;\n",
              "  padding: 0.5em;\n",
              "  box-sizing: border-box;\n",
              "  text-align: center;\n",
              "  align-items: start;\n",
              "  justify-content: space-between;\n",
              "  gap: 0.5em;\n",
              "}\n",
              "\n",
              "#sk-container-id-1 label.sk-toggleable__label .caption {\n",
              "  font-size: 0.6rem;\n",
              "  font-weight: lighter;\n",
              "  color: var(--sklearn-color-text-muted);\n",
              "}\n",
              "\n",
              "#sk-container-id-1 label.sk-toggleable__label-arrow:before {\n",
              "  /* Arrow on the left of the label */\n",
              "  content: \"▸\";\n",
              "  float: left;\n",
              "  margin-right: 0.25em;\n",
              "  color: var(--sklearn-color-icon);\n",
              "}\n",
              "\n",
              "#sk-container-id-1 label.sk-toggleable__label-arrow:hover:before {\n",
              "  color: var(--sklearn-color-text);\n",
              "}\n",
              "\n",
              "/* Toggleable content - dropdown */\n",
              "\n",
              "#sk-container-id-1 div.sk-toggleable__content {\n",
              "  max-height: 0;\n",
              "  max-width: 0;\n",
              "  overflow: hidden;\n",
              "  text-align: left;\n",
              "  /* unfitted */\n",
              "  background-color: var(--sklearn-color-unfitted-level-0);\n",
              "}\n",
              "\n",
              "#sk-container-id-1 div.sk-toggleable__content.fitted {\n",
              "  /* fitted */\n",
              "  background-color: var(--sklearn-color-fitted-level-0);\n",
              "}\n",
              "\n",
              "#sk-container-id-1 div.sk-toggleable__content pre {\n",
              "  margin: 0.2em;\n",
              "  border-radius: 0.25em;\n",
              "  color: var(--sklearn-color-text);\n",
              "  /* unfitted */\n",
              "  background-color: var(--sklearn-color-unfitted-level-0);\n",
              "}\n",
              "\n",
              "#sk-container-id-1 div.sk-toggleable__content.fitted pre {\n",
              "  /* unfitted */\n",
              "  background-color: var(--sklearn-color-fitted-level-0);\n",
              "}\n",
              "\n",
              "#sk-container-id-1 input.sk-toggleable__control:checked~div.sk-toggleable__content {\n",
              "  /* Expand drop-down */\n",
              "  max-height: 200px;\n",
              "  max-width: 100%;\n",
              "  overflow: auto;\n",
              "}\n",
              "\n",
              "#sk-container-id-1 input.sk-toggleable__control:checked~label.sk-toggleable__label-arrow:before {\n",
              "  content: \"▾\";\n",
              "}\n",
              "\n",
              "/* Pipeline/ColumnTransformer-specific style */\n",
              "\n",
              "#sk-container-id-1 div.sk-label input.sk-toggleable__control:checked~label.sk-toggleable__label {\n",
              "  color: var(--sklearn-color-text);\n",
              "  background-color: var(--sklearn-color-unfitted-level-2);\n",
              "}\n",
              "\n",
              "#sk-container-id-1 div.sk-label.fitted input.sk-toggleable__control:checked~label.sk-toggleable__label {\n",
              "  background-color: var(--sklearn-color-fitted-level-2);\n",
              "}\n",
              "\n",
              "/* Estimator-specific style */\n",
              "\n",
              "/* Colorize estimator box */\n",
              "#sk-container-id-1 div.sk-estimator input.sk-toggleable__control:checked~label.sk-toggleable__label {\n",
              "  /* unfitted */\n",
              "  background-color: var(--sklearn-color-unfitted-level-2);\n",
              "}\n",
              "\n",
              "#sk-container-id-1 div.sk-estimator.fitted input.sk-toggleable__control:checked~label.sk-toggleable__label {\n",
              "  /* fitted */\n",
              "  background-color: var(--sklearn-color-fitted-level-2);\n",
              "}\n",
              "\n",
              "#sk-container-id-1 div.sk-label label.sk-toggleable__label,\n",
              "#sk-container-id-1 div.sk-label label {\n",
              "  /* The background is the default theme color */\n",
              "  color: var(--sklearn-color-text-on-default-background);\n",
              "}\n",
              "\n",
              "/* On hover, darken the color of the background */\n",
              "#sk-container-id-1 div.sk-label:hover label.sk-toggleable__label {\n",
              "  color: var(--sklearn-color-text);\n",
              "  background-color: var(--sklearn-color-unfitted-level-2);\n",
              "}\n",
              "\n",
              "/* Label box, darken color on hover, fitted */\n",
              "#sk-container-id-1 div.sk-label.fitted:hover label.sk-toggleable__label.fitted {\n",
              "  color: var(--sklearn-color-text);\n",
              "  background-color: var(--sklearn-color-fitted-level-2);\n",
              "}\n",
              "\n",
              "/* Estimator label */\n",
              "\n",
              "#sk-container-id-1 div.sk-label label {\n",
              "  font-family: monospace;\n",
              "  font-weight: bold;\n",
              "  display: inline-block;\n",
              "  line-height: 1.2em;\n",
              "}\n",
              "\n",
              "#sk-container-id-1 div.sk-label-container {\n",
              "  text-align: center;\n",
              "}\n",
              "\n",
              "/* Estimator-specific */\n",
              "#sk-container-id-1 div.sk-estimator {\n",
              "  font-family: monospace;\n",
              "  border: 1px dotted var(--sklearn-color-border-box);\n",
              "  border-radius: 0.25em;\n",
              "  box-sizing: border-box;\n",
              "  margin-bottom: 0.5em;\n",
              "  /* unfitted */\n",
              "  background-color: var(--sklearn-color-unfitted-level-0);\n",
              "}\n",
              "\n",
              "#sk-container-id-1 div.sk-estimator.fitted {\n",
              "  /* fitted */\n",
              "  background-color: var(--sklearn-color-fitted-level-0);\n",
              "}\n",
              "\n",
              "/* on hover */\n",
              "#sk-container-id-1 div.sk-estimator:hover {\n",
              "  /* unfitted */\n",
              "  background-color: var(--sklearn-color-unfitted-level-2);\n",
              "}\n",
              "\n",
              "#sk-container-id-1 div.sk-estimator.fitted:hover {\n",
              "  /* fitted */\n",
              "  background-color: var(--sklearn-color-fitted-level-2);\n",
              "}\n",
              "\n",
              "/* Specification for estimator info (e.g. \"i\" and \"?\") */\n",
              "\n",
              "/* Common style for \"i\" and \"?\" */\n",
              "\n",
              ".sk-estimator-doc-link,\n",
              "a:link.sk-estimator-doc-link,\n",
              "a:visited.sk-estimator-doc-link {\n",
              "  float: right;\n",
              "  font-size: smaller;\n",
              "  line-height: 1em;\n",
              "  font-family: monospace;\n",
              "  background-color: var(--sklearn-color-background);\n",
              "  border-radius: 1em;\n",
              "  height: 1em;\n",
              "  width: 1em;\n",
              "  text-decoration: none !important;\n",
              "  margin-left: 0.5em;\n",
              "  text-align: center;\n",
              "  /* unfitted */\n",
              "  border: var(--sklearn-color-unfitted-level-1) 1pt solid;\n",
              "  color: var(--sklearn-color-unfitted-level-1);\n",
              "}\n",
              "\n",
              ".sk-estimator-doc-link.fitted,\n",
              "a:link.sk-estimator-doc-link.fitted,\n",
              "a:visited.sk-estimator-doc-link.fitted {\n",
              "  /* fitted */\n",
              "  border: var(--sklearn-color-fitted-level-1) 1pt solid;\n",
              "  color: var(--sklearn-color-fitted-level-1);\n",
              "}\n",
              "\n",
              "/* On hover */\n",
              "div.sk-estimator:hover .sk-estimator-doc-link:hover,\n",
              ".sk-estimator-doc-link:hover,\n",
              "div.sk-label-container:hover .sk-estimator-doc-link:hover,\n",
              ".sk-estimator-doc-link:hover {\n",
              "  /* unfitted */\n",
              "  background-color: var(--sklearn-color-unfitted-level-3);\n",
              "  color: var(--sklearn-color-background);\n",
              "  text-decoration: none;\n",
              "}\n",
              "\n",
              "div.sk-estimator.fitted:hover .sk-estimator-doc-link.fitted:hover,\n",
              ".sk-estimator-doc-link.fitted:hover,\n",
              "div.sk-label-container:hover .sk-estimator-doc-link.fitted:hover,\n",
              ".sk-estimator-doc-link.fitted:hover {\n",
              "  /* fitted */\n",
              "  background-color: var(--sklearn-color-fitted-level-3);\n",
              "  color: var(--sklearn-color-background);\n",
              "  text-decoration: none;\n",
              "}\n",
              "\n",
              "/* Span, style for the box shown on hovering the info icon */\n",
              ".sk-estimator-doc-link span {\n",
              "  display: none;\n",
              "  z-index: 9999;\n",
              "  position: relative;\n",
              "  font-weight: normal;\n",
              "  right: .2ex;\n",
              "  padding: .5ex;\n",
              "  margin: .5ex;\n",
              "  width: min-content;\n",
              "  min-width: 20ex;\n",
              "  max-width: 50ex;\n",
              "  color: var(--sklearn-color-text);\n",
              "  box-shadow: 2pt 2pt 4pt #999;\n",
              "  /* unfitted */\n",
              "  background: var(--sklearn-color-unfitted-level-0);\n",
              "  border: .5pt solid var(--sklearn-color-unfitted-level-3);\n",
              "}\n",
              "\n",
              ".sk-estimator-doc-link.fitted span {\n",
              "  /* fitted */\n",
              "  background: var(--sklearn-color-fitted-level-0);\n",
              "  border: var(--sklearn-color-fitted-level-3);\n",
              "}\n",
              "\n",
              ".sk-estimator-doc-link:hover span {\n",
              "  display: block;\n",
              "}\n",
              "\n",
              "/* \"?\"-specific style due to the `<a>` HTML tag */\n",
              "\n",
              "#sk-container-id-1 a.estimator_doc_link {\n",
              "  float: right;\n",
              "  font-size: 1rem;\n",
              "  line-height: 1em;\n",
              "  font-family: monospace;\n",
              "  background-color: var(--sklearn-color-background);\n",
              "  border-radius: 1rem;\n",
              "  height: 1rem;\n",
              "  width: 1rem;\n",
              "  text-decoration: none;\n",
              "  /* unfitted */\n",
              "  color: var(--sklearn-color-unfitted-level-1);\n",
              "  border: var(--sklearn-color-unfitted-level-1) 1pt solid;\n",
              "}\n",
              "\n",
              "#sk-container-id-1 a.estimator_doc_link.fitted {\n",
              "  /* fitted */\n",
              "  border: var(--sklearn-color-fitted-level-1) 1pt solid;\n",
              "  color: var(--sklearn-color-fitted-level-1);\n",
              "}\n",
              "\n",
              "/* On hover */\n",
              "#sk-container-id-1 a.estimator_doc_link:hover {\n",
              "  /* unfitted */\n",
              "  background-color: var(--sklearn-color-unfitted-level-3);\n",
              "  color: var(--sklearn-color-background);\n",
              "  text-decoration: none;\n",
              "}\n",
              "\n",
              "#sk-container-id-1 a.estimator_doc_link.fitted:hover {\n",
              "  /* fitted */\n",
              "  background-color: var(--sklearn-color-fitted-level-3);\n",
              "}\n",
              "</style><div id=\"sk-container-id-1\" class=\"sk-top-container\"><div class=\"sk-text-repr-fallback\"><pre>SGDClassifier(random_state=42)</pre><b>In a Jupyter environment, please rerun this cell to show the HTML representation or trust the notebook. <br />On GitHub, the HTML representation is unable to render, please try loading this page with nbviewer.org.</b></div><div class=\"sk-container\" hidden><div class=\"sk-item\"><div class=\"sk-estimator fitted sk-toggleable\"><input class=\"sk-toggleable__control sk-hidden--visually\" id=\"sk-estimator-id-1\" type=\"checkbox\" checked><label for=\"sk-estimator-id-1\" class=\"sk-toggleable__label fitted sk-toggleable__label-arrow\"><div><div>SGDClassifier</div></div><div><a class=\"sk-estimator-doc-link fitted\" rel=\"noreferrer\" target=\"_blank\" href=\"https://scikit-learn.org/1.6/modules/generated/sklearn.linear_model.SGDClassifier.html\">?<span>Documentation for SGDClassifier</span></a><span class=\"sk-estimator-doc-link fitted\">i<span>Fitted</span></span></div></label><div class=\"sk-toggleable__content fitted\"><pre>SGDClassifier(random_state=42)</pre></div> </div></div></div></div>"
            ]
          },
          "metadata": {},
          "execution_count": 22
        }
      ],
      "source": [
        "# fit the sgd_clf\n",
        "sgd_clf.fit(X_train, y_train_5)"
      ]
    },
    {
      "cell_type": "code",
      "execution_count": 23,
      "metadata": {
        "ExecuteTime": {
          "end_time": "2022-01-10T02:37:56.559704Z",
          "start_time": "2022-01-10T02:37:56.557081Z"
        },
        "id": "mLPx3B-te4I6"
      },
      "outputs": [],
      "source": [
        "# ↑↑↑↑↑↑↑↑↑↑↑↑↑↑↑↑↑↑↑↑↑↑↑↑↑↑↑↑↑↑↑\n",
        "# your code goes above this"
      ]
    },
    {
      "cell_type": "code",
      "execution_count": 24,
      "metadata": {
        "ExecuteTime": {
          "end_time": "2022-01-10T02:37:56.571471Z",
          "start_time": "2022-01-10T02:37:56.568702Z"
        },
        "id": "07Ftoz9ee4I6"
      },
      "outputs": [],
      "source": [
        "# let's test the model on an example. Feel free to play around and try more."
      ]
    },
    {
      "cell_type": "code",
      "execution_count": 25,
      "metadata": {
        "ExecuteTime": {
          "end_time": "2022-01-10T02:37:56.596805Z",
          "start_time": "2022-01-10T02:37:56.575283Z"
        },
        "colab": {
          "base_uri": "https://localhost:8080/"
        },
        "id": "6ZEVBl4ce4I6",
        "outputId": "1ff629fb-2471-4ffb-e9dd-dce9b4a7b319"
      },
      "outputs": [
        {
          "output_type": "execute_result",
          "data": {
            "text/plain": [
              "array([False])"
            ]
          },
          "metadata": {},
          "execution_count": 25
        }
      ],
      "source": [
        "sgd_clf.predict(X_test[0:1])"
      ]
    },
    {
      "cell_type": "code",
      "execution_count": 26,
      "metadata": {
        "ExecuteTime": {
          "end_time": "2022-01-10T02:37:56.656502Z",
          "start_time": "2022-01-10T02:37:56.598935Z"
        },
        "colab": {
          "base_uri": "https://localhost:8080/",
          "height": 406
        },
        "id": "L7O20QhOe4I7",
        "outputId": "91d724ce-3ef5-4903-dec0-91d15469ca14"
      },
      "outputs": [
        {
          "output_type": "display_data",
          "data": {
            "text/plain": [
              "<Figure size 640x480 with 1 Axes>"
            ],
            "image/png": "[encoded data removed]"
          },
          "metadata": {}
        }
      ],
      "source": [
        "plot_digit(X_test[0:1].values)"
      ]
    },
    {
      "cell_type": "markdown",
      "metadata": {
        "id": "XaIMliG-e4I7"
      },
      "source": [
        "## Task 2: Cross Validation of SGD Classifier\n",
        "\n",
        "1) Calculate the [cross-validation score](https://scikit-learn.org/stable/modules/generated/sklearn.model_selection.cross_val_score.html) of the `sgd_clf` classifier with the <br>\n",
        "train data. Use `cv=3` and `scoring=\"accuracy\"`.    \n",
        "\n",
        "2) a) Explain what cross validation is. Hint: check chapter 2 of the textbook."
      ]
    },
    {
      "cell_type": "code",
      "execution_count": 27,
      "metadata": {
        "ExecuteTime": {
          "end_time": "2022-01-10T02:37:56.660863Z",
          "start_time": "2022-01-10T02:37:56.658232Z"
        },
        "id": "DP_z3m1Oe4I7"
      },
      "outputs": [],
      "source": [
        "from sklearn.model_selection import cross_val_score"
      ]
    },
    {
      "cell_type": "code",
      "execution_count": null,
      "metadata": {
        "ExecuteTime": {
          "end_time": "2022-01-10T02:37:56.665347Z",
          "start_time": "2022-01-10T02:37:56.662836Z"
        },
        "id": "YwQ4QiEue4I7"
      },
      "outputs": [],
      "source": [
        "# 1)\n",
        "# your code goes below\n",
        "# ↓↓↓↓↓↓↓↓↓↓↓↓↓↓↓↓↓↓↓↓↓↓↓↓↓↓↓↓↓↓↓"
      ]
    },
    {
      "cell_type": "code",
      "execution_count": 28,
      "metadata": {
        "ExecuteTime": {
          "end_time": "2022-01-10T02:38:26.711177Z",
          "start_time": "2022-01-10T02:37:56.667271Z"
        },
        "id": "y4jtcDTNe4I8",
        "outputId": "cc35c207-62f2-4baa-9a2c-0d0a9473e5ac",
        "colab": {
          "base_uri": "https://localhost:8080/"
        }
      },
      "outputs": [
        {
          "output_type": "execute_result",
          "data": {
            "text/plain": [
              "array([0.95035, 0.96035, 0.9604 ])"
            ]
          },
          "metadata": {},
          "execution_count": 28
        }
      ],
      "source": [
        "# cross val score\n",
        "cv = 3\n",
        "scoring = \"accuracy\"\n",
        "cross_val_score(sgd_clf, X_train, y_train_5, cv = cv, scoring = scoring)"
      ]
    },
    {
      "cell_type": "code",
      "source": [
        "# ↑↑↑↑↑↑↑↑↑↑↑↑↑↑↑↑↑↑↑↑↑↑↑↑↑↑↑↑↑↑↑\n",
        "# your code goes above this"
      ],
      "metadata": {
        "id": "CVkadlMGkuzE"
      },
      "execution_count": null,
      "outputs": []
    },
    {
      "cell_type": "markdown",
      "source": [
        "### Double click this:\n",
        "\n",
        "Enter your answer to 2) a) below this:\n",
        "Cross validation is when the training set is segmented into equal pieces called folds, and the model is tested against each fold when trained against the other folds."
      ],
      "metadata": {
        "id": "b-WRXxf03Vs1"
      }
    },
    {
      "cell_type": "markdown",
      "metadata": {
        "id": "IcEDIlk1e4I8"
      },
      "source": [
        "Here is some code for a [stratified k-fold cross validation](https://scikit-learn.org/stable/modules/generated/sklearn.model_selection.StratifiedKFold.html)\n",
        "\n",
        "2) b) Explain stratified cross validation. Hint: check chapter 2 of the <br> textbook."
      ]
    },
    {
      "cell_type": "code",
      "execution_count": 29,
      "metadata": {
        "ExecuteTime": {
          "end_time": "2022-01-10T02:40:36.529884Z",
          "start_time": "2022-01-10T02:39:59.858664Z"
        },
        "colab": {
          "base_uri": "https://localhost:8080/"
        },
        "id": "kdYx9gvCe4I8",
        "outputId": "72e45f6b-a2dd-4597-ceb2-7d9c55edd520"
      },
      "outputs": [
        {
          "output_type": "stream",
          "name": "stdout",
          "text": [
            "0.9669\n",
            "0.91625\n",
            "0.96785\n"
          ]
        }
      ],
      "source": [
        "from sklearn.model_selection import StratifiedKFold\n",
        "from sklearn.base import clone\n",
        "\n",
        "skfolds = StratifiedKFold(n_splits=3, shuffle=True, random_state=42)\n",
        "\n",
        "for train_index, test_index in skfolds.split(X_train, y_train_5):\n",
        "    clone_clf = clone(sgd_clf)\n",
        "    X_train_folds = X_train.values[train_index]\n",
        "    y_train_folds = y_train_5[train_index]\n",
        "    X_test_fold = X_train.values[test_index]\n",
        "    y_test_fold = y_train_5[test_index]\n",
        "\n",
        "    clone_clf.fit(X_train_folds, y_train_folds)\n",
        "    y_pred = clone_clf.predict(X_test_fold)\n",
        "    n_correct = sum(y_pred == y_test_fold)\n",
        "    print(n_correct / len(y_pred))"
      ]
    },
    {
      "cell_type": "code",
      "execution_count": 30,
      "metadata": {
        "ExecuteTime": {
          "end_time": "2022-01-10T02:38:26.785392Z",
          "start_time": "2022-01-10T02:38:26.785373Z"
        },
        "id": "u3G97A97e4I9"
      },
      "outputs": [],
      "source": [
        "# your answer goes below\n",
        "# ↓↓↓↓↓↓↓↓↓↓↓↓↓↓↓↓↓↓↓↓↓↓↓↓↓↓↓↓↓↓↓"
      ]
    },
    {
      "cell_type": "markdown",
      "source": [
        "### Double click this:\n",
        "\n",
        "Enter your answer to 2) b) below this:\n",
        "Stratified cross validation is cross validation that preserves a percentage class split for each fold that represents the percentage class split across the entire training data."
      ],
      "metadata": {
        "id": "CEwvNapa3xa6"
      }
    },
    {
      "cell_type": "code",
      "execution_count": 31,
      "metadata": {
        "ExecuteTime": {
          "end_time": "2022-01-10T02:38:26.788742Z",
          "start_time": "2022-01-10T02:38:26.788723Z"
        },
        "id": "QOxKZ2tIe4I9"
      },
      "outputs": [],
      "source": [
        "# ↑↑↑↑↑↑↑↑↑↑↑↑↑↑↑↑↑↑↑↑↑↑↑↑↑↑↑↑↑↑↑\n",
        "# your answer goes above this"
      ]
    },
    {
      "cell_type": "markdown",
      "metadata": {
        "id": "_j_fk3kBe4I9"
      },
      "source": [
        "# Never 5 Classifier\n",
        "This classifier always predicts 0 or False. Don't worry too much about the code <br>\n",
        "below for now. The important things are that **this is a class or type of object** <br>\n",
        "**in python that has an appropriate type to be used by sklearn functions**. What <br>\n",
        "it's doing is just **creating a list of 0's of the same size of your input** or X <br>\n",
        "values and returning that as its solutions."
      ]
    },
    {
      "cell_type": "code",
      "execution_count": 32,
      "metadata": {
        "ExecuteTime": {
          "end_time": "2022-01-10T02:41:03.538009Z",
          "start_time": "2022-01-10T02:41:03.534819Z"
        },
        "id": "X6mMtnL7e4I9"
      },
      "outputs": [],
      "source": [
        "from sklearn.base import BaseEstimator\n",
        "class Never5Classifier(BaseEstimator):\n",
        "    def fit(self, X, y=None):\n",
        "        pass\n",
        "    def predict(self, X):\n",
        "        return np.zeros((len(X), 1), dtype=bool)"
      ]
    },
    {
      "cell_type": "code",
      "execution_count": 33,
      "metadata": {
        "ExecuteTime": {
          "end_time": "2022-01-10T02:41:05.070439Z",
          "start_time": "2022-01-10T02:41:04.496485Z"
        },
        "colab": {
          "base_uri": "https://localhost:8080/"
        },
        "id": "e9hu6_ide4I9",
        "outputId": "6c3c2247-cf8d-42a3-a06c-70b39d201c7b"
      },
      "outputs": [
        {
          "output_type": "execute_result",
          "data": {
            "text/plain": [
              "array([0.91125, 0.90855, 0.90915])"
            ]
          },
          "metadata": {},
          "execution_count": 33
        }
      ],
      "source": [
        "never_5_clf = Never5Classifier()\n",
        "cross_val_score(never_5_clf, X_train, y_train_5, cv=3, scoring=\"accuracy\")"
      ]
    },
    {
      "cell_type": "markdown",
      "metadata": {
        "id": "edRkVyINe4I-"
      },
      "source": [
        "## Task 3\n",
        "Explain why the \"never 5 classifier\" still has such \"high\" scores. Hint: think <br>\n",
        "about True (1) and False (0) labels."
      ]
    },
    {
      "cell_type": "code",
      "execution_count": 34,
      "metadata": {
        "ExecuteTime": {
          "end_time": "2022-01-10T02:41:42.490905Z",
          "start_time": "2022-01-10T02:41:42.488122Z"
        },
        "id": "8P74miA0e4I-"
      },
      "outputs": [],
      "source": [
        "# your answer goes below\n",
        "# ↓↓↓↓↓↓↓↓↓↓↓↓↓↓↓↓↓↓↓↓↓↓↓↓↓↓↓↓↓↓↓"
      ]
    },
    {
      "cell_type": "markdown",
      "source": [
        "### Double click this:\n",
        "\n",
        "Enter your answer to 3) below this:\n",
        "Having only true or false labels will force the average for correct and incorrect to be higher given there is not a \"percent wrong\" that a prediction can be"
      ],
      "metadata": {
        "id": "-qiW_dDn4hzJ"
      }
    },
    {
      "cell_type": "code",
      "execution_count": 35,
      "metadata": {
        "ExecuteTime": {
          "end_time": "2022-01-10T02:32:57.136710Z",
          "start_time": "2022-01-10T02:32:57.134515Z"
        },
        "id": "gRX0xwjIe4I-"
      },
      "outputs": [],
      "source": [
        "# ↑↑↑↑↑↑↑↑↑↑↑↑↑↑↑↑↑↑↑↑↑↑↑↑↑↑↑↑↑↑↑\n",
        "# your answer goes above this"
      ]
    },
    {
      "cell_type": "markdown",
      "metadata": {
        "id": "XvIM_GG6e4I-"
      },
      "source": [
        "Back to the real classifier: `sgd_clf`"
      ]
    },
    {
      "cell_type": "code",
      "execution_count": 36,
      "metadata": {
        "ExecuteTime": {
          "end_time": "2022-01-10T02:41:42.480076Z",
          "start_time": "2022-01-10T02:41:12.452682Z"
        },
        "id": "d5L3XEkhe4I_"
      },
      "outputs": [],
      "source": [
        "from sklearn.model_selection import cross_val_predict\n",
        "\n",
        "y_train_pred = cross_val_predict(sgd_clf, X_train, y_train_5, cv=3)"
      ]
    },
    {
      "cell_type": "markdown",
      "metadata": {
        "id": "MTofJ2Go3OB0"
      },
      "source": [
        "## Task 4\n",
        "Calculate the [confusion matrix](https://scikit-learn.org/stable/modules/generated/sklearn.metrics.confusion_matrix.html) for\n",
        "- predicted values (true y values and predicted y values)\n",
        "- perfect predictions (Hint: use only true values)\n",
        "\n",
        "Explain what the entries of the confusion matrix mean."
      ]
    },
    {
      "cell_type": "code",
      "execution_count": null,
      "metadata": {
        "ExecuteTime": {
          "end_time": "2022-01-10T02:41:42.485849Z",
          "start_time": "2022-01-10T02:41:42.482752Z"
        },
        "scrolled": true,
        "id": "-HR5o7DO3OB0"
      },
      "outputs": [],
      "source": [
        "from sklearn.metrics import confusion_matrix"
      ]
    },
    {
      "cell_type": "code",
      "execution_count": null,
      "metadata": {
        "ExecuteTime": {
          "end_time": "2022-01-10T02:41:42.490905Z",
          "start_time": "2022-01-10T02:41:42.488122Z"
        },
        "id": "VAaQM67w3OB0"
      },
      "outputs": [],
      "source": [
        "# your code goes below\n",
        "# ↓↓↓↓↓↓↓↓↓↓↓↓↓↓↓↓↓↓↓↓↓↓↓↓↓↓↓↓↓↓↓"
      ]
    },
    {
      "cell_type": "code",
      "execution_count": null,
      "metadata": {
        "ExecuteTime": {
          "end_time": "2022-01-10T02:41:42.505123Z",
          "start_time": "2022-01-10T02:41:42.493892Z"
        },
        "id": "tdWsVqpm3OB0"
      },
      "outputs": [],
      "source": [
        "# confusion matrix for predicted values\n"
      ]
    },
    {
      "cell_type": "code",
      "execution_count": null,
      "metadata": {
        "ExecuteTime": {
          "end_time": "2022-01-10T02:41:56.793669Z",
          "start_time": "2022-01-10T02:41:56.784994Z"
        },
        "id": "iZM78Q133OB1"
      },
      "outputs": [],
      "source": [
        "# confusion matrix for perfect predictions\n"
      ]
    },
    {
      "cell_type": "markdown",
      "source": [
        "### Double click this:\n",
        "\n",
        "Enter your exaplanation for 4) below this:\n"
      ],
      "metadata": {
        "id": "vOmi7Npk9uRi"
      }
    },
    {
      "cell_type": "code",
      "execution_count": null,
      "metadata": {
        "ExecuteTime": {
          "end_time": "2022-01-10T02:32:57.136710Z",
          "start_time": "2022-01-10T02:32:57.134515Z"
        },
        "id": "IwgQKidy3OB1"
      },
      "outputs": [],
      "source": [
        "# ↑↑↑↑↑↑↑↑↑↑↑↑↑↑↑↑↑↑↑↑↑↑↑↑↑↑↑↑↑↑↑\n",
        "# your code goes above this"
      ]
    },
    {
      "cell_type": "markdown",
      "metadata": {
        "id": "X5fjNJB33OB1"
      },
      "source": [
        "## Task 5\n",
        "Calculate precision and recall scores for training and predicted values. <br>\n",
        "Precision = TP / (TP + FP) <br>\n",
        "Recall = TP / (TP + FN)"
      ]
    },
    {
      "cell_type": "code",
      "execution_count": null,
      "metadata": {
        "ExecuteTime": {
          "end_time": "2022-01-10T02:50:48.207424Z",
          "start_time": "2022-01-10T02:50:48.204938Z"
        },
        "id": "YeRUojFn3OB1"
      },
      "outputs": [],
      "source": [
        "from sklearn.metrics import precision_score, recall_score"
      ]
    },
    {
      "cell_type": "code",
      "execution_count": null,
      "metadata": {
        "ExecuteTime": {
          "end_time": "2022-01-10T02:41:42.490905Z",
          "start_time": "2022-01-10T02:41:42.488122Z"
        },
        "id": "UK9tfxD43OB1"
      },
      "outputs": [],
      "source": [
        "# your code goes below\n",
        "# ↓↓↓↓↓↓↓↓↓↓↓↓↓↓↓↓↓↓↓↓↓↓↓↓↓↓↓↓↓↓↓"
      ]
    },
    {
      "cell_type": "code",
      "execution_count": null,
      "metadata": {
        "id": "7CJ-QBRT3OB1"
      },
      "outputs": [],
      "source": []
    },
    {
      "cell_type": "code",
      "execution_count": null,
      "metadata": {
        "ExecuteTime": {
          "end_time": "2022-01-10T02:32:57.136710Z",
          "start_time": "2022-01-10T02:32:57.134515Z"
        },
        "id": "Fcm3zsfk3OB2"
      },
      "outputs": [],
      "source": [
        "# ↑↑↑↑↑↑↑↑↑↑↑↑↑↑↑↑↑↑↑↑↑↑↑↑↑↑↑↑↑↑↑\n",
        "# your code goes above this"
      ]
    },
    {
      "cell_type": "markdown",
      "metadata": {
        "id": "LRCGUpC43OB2"
      },
      "source": [
        "## Task 6\n",
        "Using the values from the [confusion matrix](https://scikit-learn.org/stable/modules/generated/sklearn.metrics.confusion_matrix.html), calculate\n",
        "- the rate of false positives, true positives, false negatives, true negatives\n",
        "- accuracy (TP + TN) / (TP + TN + FN + FP)\n",
        "- precision"
      ]
    },
    {
      "cell_type": "code",
      "execution_count": null,
      "metadata": {
        "ExecuteTime": {
          "end_time": "2022-01-10T02:41:42.490905Z",
          "start_time": "2022-01-10T02:41:42.488122Z"
        },
        "id": "9Q71Ur9X3OB2"
      },
      "outputs": [],
      "source": [
        "# your code goes below\n",
        "# ↓↓↓↓↓↓↓↓↓↓↓↓↓↓↓↓↓↓↓↓↓↓↓↓↓↓↓↓↓↓↓"
      ]
    },
    {
      "cell_type": "code",
      "execution_count": null,
      "metadata": {
        "id": "qhkV0gGD3OB2"
      },
      "outputs": [],
      "source": []
    },
    {
      "cell_type": "code",
      "execution_count": null,
      "metadata": {
        "ExecuteTime": {
          "end_time": "2022-01-10T02:32:57.136710Z",
          "start_time": "2022-01-10T02:32:57.134515Z"
        },
        "id": "KtMoEAa83OB2"
      },
      "outputs": [],
      "source": [
        "# ↑↑↑↑↑↑↑↑↑↑↑↑↑↑↑↑↑↑↑↑↑↑↑↑↑↑↑↑↑↑↑\n",
        "# your code goes above this"
      ]
    },
    {
      "cell_type": "markdown",
      "metadata": {
        "id": "EY8diWfE3OB2"
      },
      "source": [
        "## Task 7\n",
        "Calculate the f1 score. <br>\n",
        "F1 = (2 \\* precision \\* recall) / (precision + recall)"
      ]
    },
    {
      "cell_type": "code",
      "execution_count": null,
      "metadata": {
        "scrolled": true,
        "id": "xXTW4l4f3OB2"
      },
      "outputs": [],
      "source": [
        "from sklearn.metrics import f1_score"
      ]
    },
    {
      "cell_type": "code",
      "execution_count": null,
      "metadata": {
        "ExecuteTime": {
          "end_time": "2022-01-10T02:41:42.490905Z",
          "start_time": "2022-01-10T02:41:42.488122Z"
        },
        "id": "vJhwjTJV3OB3"
      },
      "outputs": [],
      "source": [
        "# your code goes below\n",
        "# ↓↓↓↓↓↓↓↓↓↓↓↓↓↓↓↓↓↓↓↓↓↓↓↓↓↓↓↓↓↓↓"
      ]
    },
    {
      "cell_type": "code",
      "execution_count": null,
      "metadata": {
        "id": "N6PaKqQS3OB3"
      },
      "outputs": [],
      "source": []
    },
    {
      "cell_type": "code",
      "execution_count": null,
      "metadata": {
        "ExecuteTime": {
          "end_time": "2022-01-10T02:32:57.136710Z",
          "start_time": "2022-01-10T02:32:57.134515Z"
        },
        "id": "y8qwNs4M3OB3"
      },
      "outputs": [],
      "source": [
        "# ↑↑↑↑↑↑↑↑↑↑↑↑↑↑↑↑↑↑↑↑↑↑↑↑↑↑↑↑↑↑↑\n",
        "# your code goes above this"
      ]
    },
    {
      "cell_type": "markdown",
      "metadata": {
        "id": "nwETqiML3OB3"
      },
      "source": [
        "## Task 8\n",
        "Explain what the scores in task 6 and 7 (accuracy, precision, f1) describe. <br>\n",
        "**Do not just copy formulas**; explain their meaning."
      ]
    },
    {
      "cell_type": "code",
      "execution_count": null,
      "metadata": {
        "ExecuteTime": {
          "end_time": "2022-01-10T02:41:42.490905Z",
          "start_time": "2022-01-10T02:41:42.488122Z"
        },
        "id": "Onh3cA6G3OB3"
      },
      "outputs": [],
      "source": [
        "# your answer goes below\n",
        "# ↓↓↓↓↓↓↓↓↓↓↓↓↓↓↓↓↓↓↓↓↓↓↓↓↓↓↓↓↓↓↓"
      ]
    },
    {
      "cell_type": "markdown",
      "source": [
        "### Double click this:\n",
        "\n",
        "Enter your answer to 8) below this:\n"
      ],
      "metadata": {
        "id": "vFqiOEjbACnL"
      }
    },
    {
      "cell_type": "code",
      "execution_count": null,
      "metadata": {
        "ExecuteTime": {
          "end_time": "2022-01-10T02:32:57.136710Z",
          "start_time": "2022-01-10T02:32:57.134515Z"
        },
        "id": "h96MPXYH3OB3"
      },
      "outputs": [],
      "source": [
        "# ↑↑↑↑↑↑↑↑↑↑↑↑↑↑↑↑↑↑↑↑↑↑↑↑↑↑↑↑↑↑↑\n",
        "# your answer goes above this"
      ]
    },
    {
      "cell_type": "markdown",
      "metadata": {
        "id": "WXN52tgL3OB4"
      },
      "source": [
        "# Setting a Threshold on the Prediction\n",
        "\n",
        "Models will often have some mathematical function which determines a so-called <br>\n",
        "confidence score. This score can be thought of as a likelihood of predicting <br>\n",
        "a particular value correctly. Sometimes these are percentages and other times <br>\n",
        "these are some continuous value."
      ]
    },
    {
      "cell_type": "code",
      "execution_count": null,
      "metadata": {
        "ExecuteTime": {
          "end_time": "2022-01-10T02:48:58.169188Z",
          "start_time": "2022-01-10T02:48:58.163726Z"
        },
        "id": "i2vcDyqM3OB4",
        "outputId": "bc366422-ceda-4c07-c2e3-52bee36b1293"
      },
      "outputs": [
        {
          "name": "stderr",
          "output_type": "stream",
          "text": [
            "/usr/local/anaconda3/envs/delay_line_detector/lib/python3.8/site-packages/sklearn/base.py:441: UserWarning: X does not have valid feature names, but SGDClassifier was fitted with feature names\n",
            "  warnings.warn(\n"
          ]
        },
        {
          "data": {
            "text/plain": [
              "array([2164.22030239])"
            ]
          },
          "execution_count": 128,
          "metadata": {},
          "output_type": "execute_result"
        }
      ],
      "source": [
        "some_digit = X.values[0]\n",
        "y_scores = sgd_clf.decision_function([some_digit])\n",
        "y_scores"
      ]
    },
    {
      "cell_type": "markdown",
      "source": [
        "We can also set a **threshold for confidence** scores that says we **only consider a** <br>\n",
        "**prediction if it's made with enough \"confidence\"**."
      ],
      "metadata": {
        "id": "YReA26FUBv4J"
      }
    },
    {
      "cell_type": "code",
      "execution_count": null,
      "metadata": {
        "ExecuteTime": {
          "end_time": "2022-01-10T02:48:01.712173Z",
          "start_time": "2022-01-10T02:48:01.707778Z"
        },
        "id": "S-SmVPng3OB4",
        "outputId": "5c9d5dc9-79f1-4a2a-8ae4-19fe944ab804"
      },
      "outputs": [
        {
          "data": {
            "text/plain": [
              "array([ True])"
            ]
          },
          "execution_count": 123,
          "metadata": {},
          "output_type": "execute_result"
        }
      ],
      "source": [
        "threshold = 0\n",
        "y_some_digit_pred = (y_scores > threshold)\n",
        "y_some_digit_pred"
      ]
    },
    {
      "cell_type": "code",
      "execution_count": null,
      "metadata": {
        "ExecuteTime": {
          "end_time": "2022-01-10T02:48:05.147389Z",
          "start_time": "2022-01-10T02:48:05.143404Z"
        },
        "id": "2rymfs_D3OB4",
        "outputId": "99bc1d63-2214-497c-9fe5-ab76d1471765"
      },
      "outputs": [
        {
          "data": {
            "text/plain": [
              "array([False])"
            ]
          },
          "execution_count": 124,
          "metadata": {},
          "output_type": "execute_result"
        }
      ],
      "source": [
        "threshold = 8000\n",
        "y_some_digit_pred = (y_scores > threshold)\n",
        "y_some_digit_pred"
      ]
    },
    {
      "cell_type": "markdown",
      "source": [
        "These **confidence scores can also be generated using** the decision_function <br>\n",
        "method of **cross_val_predict()**."
      ],
      "metadata": {
        "id": "zQq2FXuRCOF2"
      }
    },
    {
      "cell_type": "code",
      "execution_count": null,
      "metadata": {
        "ExecuteTime": {
          "end_time": "2022-01-10T02:52:47.016524Z",
          "start_time": "2022-01-10T02:52:16.587210Z"
        },
        "id": "ZePLiX313OB4"
      },
      "outputs": [],
      "source": [
        "y_scores = cross_val_predict(sgd_clf, X_train, y_train_5, cv=3,\n",
        "                             method=\"decision_function\")"
      ]
    },
    {
      "cell_type": "code",
      "execution_count": null,
      "metadata": {
        "ExecuteTime": {
          "end_time": "2022-01-10T02:52:47.047922Z",
          "start_time": "2022-01-10T02:52:47.018561Z"
        },
        "id": "GcGiWJyr3OB5",
        "outputId": "0205e4ed-033f-4134-bf52-6a66c23cded5"
      },
      "outputs": [
        {
          "data": {
            "text/plain": [
              "array([  1200.93051237, -26883.79202424, -33072.03475406, ...,\n",
              "        13272.12718981,  -7258.47203373, -16877.50840447])"
            ]
          },
          "execution_count": 146,
          "metadata": {},
          "output_type": "execute_result"
        }
      ],
      "source": [
        "y_scores"
      ]
    },
    {
      "cell_type": "markdown",
      "source": [
        "The **precision_recall_curve compares precision and recal values at certain** <br>\n",
        "**confidence thresholds**. That is, if we require the model make a prediction with <br>\n",
        "a certain degree of confidence, how does that affect our precision and recall."
      ],
      "metadata": {
        "id": "xxw74IkxCs79"
      }
    },
    {
      "cell_type": "code",
      "execution_count": null,
      "metadata": {
        "ExecuteTime": {
          "end_time": "2022-01-10T02:48:43.497627Z",
          "start_time": "2022-01-10T02:48:43.464403Z"
        },
        "id": "sKsZFclV3OB5"
      },
      "outputs": [],
      "source": [
        "from sklearn.metrics import precision_recall_curve\n",
        "\n",
        "precisions, recalls, thresholds = precision_recall_curve(y_train_5, y_scores)"
      ]
    },
    {
      "cell_type": "code",
      "execution_count": null,
      "metadata": {
        "ExecuteTime": {
          "end_time": "2022-01-10T02:49:12.359256Z",
          "start_time": "2022-01-10T02:49:12.234680Z"
        },
        "id": "R0R5kvtn3OB5",
        "outputId": "cf7f4979-ee97-4480-85f7-2f4690274123"
      },
      "outputs": [
        {
          "data": {
            "image/png": "[encoded data removed]",
            "text/plain": [
              "<Figure size 576x288 with 1 Axes>"
            ]
          },
          "metadata": {
            "needs_background": "light"
          },
          "output_type": "display_data"
        }
      ],
      "source": [
        "def plot_precision_recall_vs_threshold(precisions, recalls, thresholds):\n",
        "    plt.plot(thresholds, precisions[:-1], \"b--\", label=\"Precision\", linewidth=2)\n",
        "    plt.plot(thresholds, recalls[:-1], \"g-\", label=\"Recall\", linewidth=2)\n",
        "    plt.legend(loc=\"center right\", fontsize=16) # Not shown in the book\n",
        "    plt.xlabel(\"Threshold\", fontsize=16)        # Not shown\n",
        "    plt.grid(True)                              # Not shown\n",
        "    plt.axis([-50000, 50000, 0, 1])             # Not shown\n",
        "\n",
        "\n",
        "\n",
        "recall_90_precision = recalls[np.argmax(precisions >= 0.90)]\n",
        "threshold_90_precision = thresholds[np.argmax(precisions >= 0.90)]\n",
        "\n",
        "\n",
        "plt.figure(figsize=(8, 4))                                                                  # Not shown\n",
        "plot_precision_recall_vs_threshold(precisions, recalls, thresholds)\n",
        "plt.plot([threshold_90_precision, threshold_90_precision], [0., 0.9], \"r:\")                 # Not shown\n",
        "plt.plot([-50000, threshold_90_precision], [0.9, 0.9], \"r:\")                                # Not shown\n",
        "plt.plot([-50000, threshold_90_precision], [recall_90_precision, recall_90_precision], \"r:\")# Not shown\n",
        "plt.plot([threshold_90_precision], [0.9], \"ro\")                                             # Not shown\n",
        "plt.plot([threshold_90_precision], [recall_90_precision], \"ro\")                             # Not shown\n",
        "plt.show()"
      ]
    },
    {
      "cell_type": "markdown",
      "source": [
        "Another way to evaluate precision and recall is just plotting them against <br>\n",
        "one another. **Notice the dashed red box**. **The right side shows what our recall** <br>\n",
        "**performance is at a precision of 0.9 out of a maximum of 1**."
      ],
      "metadata": {
        "id": "yXWTUpC1DQ33"
      }
    },
    {
      "cell_type": "code",
      "execution_count": null,
      "metadata": {
        "ExecuteTime": {
          "end_time": "2022-01-10T02:49:46.900269Z",
          "start_time": "2022-01-10T02:49:46.785578Z"
        },
        "id": "k46iLqBE3OB5",
        "outputId": "1f15763a-4408-4fa7-9c7e-6d5c27102003"
      },
      "outputs": [
        {
          "data": {
            "image/png": "[encoded data removed]",
            "text/plain": [
              "<Figure size 576x432 with 1 Axes>"
            ]
          },
          "metadata": {
            "needs_background": "light"
          },
          "output_type": "display_data"
        }
      ],
      "source": [
        "def plot_precision_vs_recall(precisions, recalls):\n",
        "    plt.plot(recalls, precisions, \"b-\", linewidth=2)\n",
        "    plt.xlabel(\"Recall\", fontsize=16)\n",
        "    plt.ylabel(\"Precision\", fontsize=16)\n",
        "    plt.axis([0, 1, 0, 1])\n",
        "    plt.grid(True)\n",
        "\n",
        "plt.figure(figsize=(8, 6))\n",
        "plot_precision_vs_recall(precisions, recalls)\n",
        "plt.plot([recall_90_precision, recall_90_precision], [0., 0.9], \"r:\")\n",
        "plt.plot([0.0, recall_90_precision], [0.9, 0.9], \"r:\")\n",
        "plt.plot([recall_90_precision], [0.9], \"ro\")\n",
        "plt.show()"
      ]
    },
    {
      "cell_type": "markdown",
      "source": [
        "Let's check what our threshold value is at 0.9 precision."
      ],
      "metadata": {
        "id": "C_lbUGxqD-e_"
      }
    },
    {
      "cell_type": "code",
      "execution_count": null,
      "metadata": {
        "ExecuteTime": {
          "end_time": "2022-01-10T02:53:08.435398Z",
          "start_time": "2022-01-10T02:53:08.432115Z"
        },
        "id": "VlL9irLa3OB5"
      },
      "outputs": [],
      "source": [
        "threshold_90_precision = thresholds[np.argmax(precisions >= 0.90)]"
      ]
    },
    {
      "cell_type": "code",
      "execution_count": null,
      "metadata": {
        "ExecuteTime": {
          "end_time": "2022-01-10T02:53:09.222273Z",
          "start_time": "2022-01-10T02:53:09.218550Z"
        },
        "id": "B95vn0kX3OB5",
        "outputId": "9ab7b18a-00db-4f6f-8217-4bb90662bfe2"
      },
      "outputs": [
        {
          "data": {
            "text/plain": [
              "3370.0194991439557"
            ]
          },
          "execution_count": 149,
          "metadata": {},
          "output_type": "execute_result"
        }
      ],
      "source": [
        "threshold_90_precision"
      ]
    },
    {
      "cell_type": "markdown",
      "source": [
        "We can also analyze our performance at the region above that threshold."
      ],
      "metadata": {
        "id": "tdFLD3VCJ_gl"
      }
    },
    {
      "cell_type": "code",
      "execution_count": null,
      "metadata": {
        "ExecuteTime": {
          "end_time": "2022-01-10T02:53:11.476342Z",
          "start_time": "2022-01-10T02:53:11.473767Z"
        },
        "id": "pmYx11_C3OB6"
      },
      "outputs": [],
      "source": [
        "y_train_pred_90 = (y_scores >= threshold_90_precision)"
      ]
    },
    {
      "cell_type": "code",
      "execution_count": null,
      "metadata": {
        "ExecuteTime": {
          "end_time": "2022-01-10T02:53:23.644585Z",
          "start_time": "2022-01-10T02:53:23.625803Z"
        },
        "id": "7LtvA7Dy3OB6",
        "outputId": "d61ccc85-3a6e-4b2e-e483-1d86df54abd1"
      },
      "outputs": [
        {
          "data": {
            "text/plain": [
              "0.9000345901072293"
            ]
          },
          "execution_count": 152,
          "metadata": {},
          "output_type": "execute_result"
        }
      ],
      "source": [
        "precision_score(y_train_5, y_train_pred_90)"
      ]
    },
    {
      "cell_type": "code",
      "execution_count": null,
      "metadata": {
        "ExecuteTime": {
          "end_time": "2022-01-10T02:53:46.583472Z",
          "start_time": "2022-01-10T02:53:46.566067Z"
        },
        "id": "5dFWyGp93OB6",
        "outputId": "53c67604-3c00-4e16-bf66-796f075b5f62"
      },
      "outputs": [
        {
          "data": {
            "text/plain": [
              "0.4799852425751706"
            ]
          },
          "execution_count": 153,
          "metadata": {},
          "output_type": "execute_result"
        }
      ],
      "source": [
        "recall_score(y_train_5, y_train_pred_90)"
      ]
    },
    {
      "cell_type": "markdown",
      "metadata": {
        "id": "KryZiGSW3OB6"
      },
      "source": [
        "# ROC curves"
      ]
    },
    {
      "cell_type": "markdown",
      "metadata": {
        "id": "9Pe2JWjA3OB6"
      },
      "source": [
        "We can now go on to calculate the [Receiver Operating Characteristic (ROC) curve](https://en.wikipedia.org/wiki/Receiver_operating_characteristic). <br>\n",
        "For a good explanation see also [here](https://towardsdatascience.com/understanding-auc-roc-curve-68b2303cc9c5) or the Statistics_1 notebook.\n",
        "\n",
        "Basically instead of plotting measures like precision and recall as a function <br>\n",
        "of the threshold, we plot the true positive rate (recall) vs the false positive <br>\n",
        "rate (fall-out)."
      ]
    },
    {
      "cell_type": "code",
      "execution_count": null,
      "metadata": {
        "ExecuteTime": {
          "end_time": "2022-01-10T02:53:58.232158Z",
          "start_time": "2022-01-10T02:53:58.217881Z"
        },
        "id": "1WXLSs0K3OB6"
      },
      "outputs": [],
      "source": [
        "from sklearn.metrics import roc_curve\n",
        "\n",
        "fpr, tpr, thresholds = roc_curve(y_train_5, y_scores)"
      ]
    },
    {
      "cell_type": "code",
      "execution_count": null,
      "metadata": {
        "ExecuteTime": {
          "end_time": "2022-01-10T02:54:02.464646Z",
          "start_time": "2022-01-10T02:54:02.284813Z"
        },
        "id": "FMqgY91e3OB6",
        "outputId": "f55100d4-83d3-4180-9e2a-a2fe81a82a0a"
      },
      "outputs": [
        {
          "data": {
            "image/png": "[encoded data removed]",
            "text/plain": [
              "<Figure size 576x432 with 1 Axes>"
            ]
          },
          "metadata": {
            "needs_background": "light"
          },
          "output_type": "display_data"
        }
      ],
      "source": [
        "def plot_roc_curve(fpr, tpr, label=None):\n",
        "    plt.plot(fpr, tpr, linewidth=2, label=label)\n",
        "    plt.plot([0, 1], [0, 1], 'k--')\n",
        "    plt.axis([0, 1, 0, 1])\n",
        "    plt.xlabel('False Positive Rate (Fall-Out)', fontsize=16)\n",
        "    plt.ylabel('True Positive Rate (Recall)', fontsize=16)\n",
        "    plt.grid(True)\n",
        "\n",
        "plt.figure(figsize=(8, 6))\n",
        "plot_roc_curve(fpr, tpr)\n",
        "fpr_90 = fpr[np.argmax(tpr >= recall_90_precision)]\n",
        "plt.plot([fpr_90, fpr_90], [0., recall_90_precision], \"r:\")\n",
        "plt.plot([0.0, fpr_90], [recall_90_precision, recall_90_precision], \"r:\")\n",
        "plt.plot([fpr_90], [recall_90_precision], \"ro\")\n",
        "plt.show()"
      ]
    },
    {
      "cell_type": "markdown",
      "metadata": {
        "id": "1Mkri3PA3OB6"
      },
      "source": [
        "The area under the curve (auc) is a measure of how good the model is."
      ]
    },
    {
      "cell_type": "code",
      "execution_count": null,
      "metadata": {
        "ExecuteTime": {
          "end_time": "2022-01-10T02:54:06.801201Z",
          "start_time": "2022-01-10T02:54:06.778145Z"
        },
        "id": "C78c9x4r3OB7",
        "outputId": "6160d083-5513-4226-ef02-e3eef5a137bd"
      },
      "outputs": [
        {
          "data": {
            "text/plain": [
              "0.9604938554008616"
            ]
          },
          "execution_count": 156,
          "metadata": {},
          "output_type": "execute_result"
        }
      ],
      "source": [
        "from sklearn.metrics import roc_auc_score\n",
        "\n",
        "roc_auc_score(y_train_5, y_scores)"
      ]
    },
    {
      "cell_type": "markdown",
      "metadata": {
        "id": "alFPYPC03OB7"
      },
      "source": [
        "Let's compare the SGD model with another model. This other model is called a <br>\n",
        "\"random forest\" classifier. **We'll cover these more in depth in the coming weeks** <br>\n",
        "but, **for now, just think of this as some other model of interest**."
      ]
    },
    {
      "cell_type": "code",
      "execution_count": null,
      "metadata": {
        "ExecuteTime": {
          "end_time": "2022-01-10T02:55:05.272317Z",
          "start_time": "2022-01-10T02:54:16.043108Z"
        },
        "id": "i5PjW1jq3OB7"
      },
      "outputs": [],
      "source": [
        "from sklearn.ensemble import RandomForestClassifier\n",
        "forest_clf = RandomForestClassifier(n_estimators=100, random_state=42)\n",
        "y_probas_forest = cross_val_predict(forest_clf, X_train, y_train_5, cv=3,\n",
        "                                    method=\"predict_proba\")"
      ]
    },
    {
      "cell_type": "code",
      "execution_count": null,
      "metadata": {
        "ExecuteTime": {
          "end_time": "2022-01-10T02:55:05.285818Z",
          "start_time": "2022-01-10T02:55:05.274884Z"
        },
        "id": "tyX3ZvoB3OB7"
      },
      "outputs": [],
      "source": [
        "y_scores_forest = y_probas_forest[:, 1] # score = proba of positive class\n",
        "fpr_forest, tpr_forest, thresholds_forest = roc_curve(y_train_5,y_scores_forest)"
      ]
    },
    {
      "cell_type": "code",
      "execution_count": null,
      "metadata": {
        "ExecuteTime": {
          "end_time": "2022-01-10T02:58:05.914822Z",
          "start_time": "2022-01-10T02:58:05.787320Z"
        },
        "id": "o1A88Usz3OB7",
        "outputId": "b0d82fb4-04d9-4eb4-f0c8-8d3b43bdb0d4"
      },
      "outputs": [
        {
          "data": {
            "image/png": "[encoded data removed]",
            "text/plain": [
              "<Figure size 576x432 with 1 Axes>"
            ]
          },
          "metadata": {
            "needs_background": "light"
          },
          "output_type": "display_data"
        }
      ],
      "source": [
        "recall_for_forest = tpr_forest[np.argmax(fpr_forest >= fpr_90)]\n",
        "\n",
        "plt.figure(figsize=(8, 6))\n",
        "plt.plot(fpr, tpr, \"b:\", linewidth=2, label=\"SGD\")\n",
        "plot_roc_curve(fpr_forest, tpr_forest, \"Random Forest\")\n",
        "plt.plot([fpr_90, fpr_90], [0., recall_90_precision], \"r:\")\n",
        "plt.plot([0.0, fpr_90], [recall_90_precision, recall_90_precision], \"r:\")\n",
        "plt.plot([fpr_90], [recall_90_precision], \"ro\")\n",
        "plt.plot([fpr_90, fpr_90], [0., recall_for_forest], \"r:\")\n",
        "plt.plot([fpr_90], [recall_for_forest], \"ro\")\n",
        "plt.grid(True)\n",
        "plt.legend(loc=\"lower right\", fontsize=16)\n",
        "plt.show()"
      ]
    },
    {
      "cell_type": "code",
      "execution_count": null,
      "metadata": {
        "ExecuteTime": {
          "end_time": "2022-01-10T02:58:07.401750Z",
          "start_time": "2022-01-10T02:58:07.386909Z"
        },
        "id": "gkuncwl43OB7",
        "outputId": "9f67b1b0-e506-4ec7-fed7-fca2411d91f8"
      },
      "outputs": [
        {
          "data": {
            "text/plain": [
              "0.9983436731328145"
            ]
          },
          "execution_count": 161,
          "metadata": {},
          "output_type": "execute_result"
        }
      ],
      "source": [
        "roc_auc_score(y_train_5, y_scores_forest)"
      ]
    },
    {
      "cell_type": "code",
      "execution_count": null,
      "metadata": {
        "ExecuteTime": {
          "end_time": "2022-01-10T02:59:01.711096Z",
          "start_time": "2022-01-10T02:58:12.408395Z"
        },
        "id": "wQcwVUgV3OB7",
        "outputId": "ff50e880-ed3e-49e6-d94c-8b9048cd8dc6"
      },
      "outputs": [
        {
          "data": {
            "text/plain": [
              "0.9905083315756169"
            ]
          },
          "execution_count": 162,
          "metadata": {},
          "output_type": "execute_result"
        }
      ],
      "source": [
        "y_train_pred_forest = cross_val_predict(forest_clf, X_train, y_train_5, cv=3)\n",
        "precision_score(y_train_5, y_train_pred_forest)"
      ]
    },
    {
      "cell_type": "code",
      "execution_count": null,
      "metadata": {
        "ExecuteTime": {
          "end_time": "2022-01-10T02:59:01.734193Z",
          "start_time": "2022-01-10T02:59:01.713430Z"
        },
        "id": "XRR9XCGy3OB8",
        "outputId": "722b3deb-269d-4747-cbeb-78431313021b"
      },
      "outputs": [
        {
          "data": {
            "text/plain": [
              "0.8662608374838591"
            ]
          },
          "execution_count": 163,
          "metadata": {},
          "output_type": "execute_result"
        }
      ],
      "source": [
        "recall_score(y_train_5, y_train_pred_forest)"
      ]
    },
    {
      "cell_type": "markdown",
      "metadata": {
        "id": "4zDMhtmzInXN"
      },
      "source": [
        "## Task 9\n",
        "\n",
        "Interpret the results from above and answer the following questions: <br>\n",
        "- Which model performed better? SGD or Random Forests <br>\n",
        "- Explain what information above you used to reach this conclusion."
      ]
    },
    {
      "cell_type": "code",
      "execution_count": null,
      "metadata": {
        "ExecuteTime": {
          "end_time": "2022-01-10T02:41:42.490905Z",
          "start_time": "2022-01-10T02:41:42.488122Z"
        },
        "id": "nkzgVS4oI8Up"
      },
      "outputs": [],
      "source": [
        "# your code goes below\n",
        "# ↓↓↓↓↓↓↓↓↓↓↓↓↓↓↓↓↓↓↓↓↓↓↓↓↓↓↓↓↓↓↓"
      ]
    },
    {
      "cell_type": "markdown",
      "source": [
        "### Double click this:\n",
        "\n",
        "Enter your answer to 9) below this:\n"
      ],
      "metadata": {
        "id": "u8NIC4-hI8Up"
      }
    },
    {
      "cell_type": "code",
      "execution_count": null,
      "metadata": {
        "ExecuteTime": {
          "end_time": "2022-01-10T02:32:57.136710Z",
          "start_time": "2022-01-10T02:32:57.134515Z"
        },
        "id": "nYIKBfO0I8Up"
      },
      "outputs": [],
      "source": [
        "# ↑↑↑↑↑↑↑↑↑↑↑↑↑↑↑↑↑↑↑↑↑↑↑↑↑↑↑↑↑↑↑\n",
        "# your code goes above this"
      ]
    },
    {
      "cell_type": "markdown",
      "metadata": {
        "id": "3VfOGuMme4JH"
      },
      "source": [
        "# Textbook exercises"
      ]
    },
    {
      "cell_type": "markdown",
      "metadata": {
        "id": "1wv-IIQ5e4JH"
      },
      "source": [
        "**Exercise 1**\n",
        "\n",
        "Feel free to play around with this question.<br>\n",
        "Try to build a different classifier.<br>\n",
        "\n",
        "__Hint__: the [KNeighborsClassifier](https://scikit-learn.org/stable/modules/generated/sklearn.neighbors.KNeighborsClassifier.html) works quite well for this task. Good hyperparameters <br>\n",
        "are `{'n_neighbors': 4, 'weights': 'distance'}`"
      ]
    },
    {
      "cell_type": "code",
      "source": [
        "from sklearn.metrics import accuracy_score\n",
        "from sklearn.neighbors import KNeighborsClassifier"
      ],
      "metadata": {
        "id": "BCHq-vli4af9"
      },
      "execution_count": null,
      "outputs": []
    },
    {
      "cell_type": "code",
      "execution_count": null,
      "metadata": {
        "id": "YsvyunW1e4JI"
      },
      "outputs": [],
      "source": [
        "# your code goes below\n",
        "# ↓↓↓↓↓↓↓↓↓↓↓↓↓↓↓↓↓↓↓↓↓↓↓↓↓↓↓↓↓↓↓"
      ]
    },
    {
      "cell_type": "code",
      "source": [],
      "metadata": {
        "id": "wWKAVj3Y4rq7"
      },
      "execution_count": null,
      "outputs": []
    },
    {
      "cell_type": "code",
      "source": [
        "# ↑↑↑↑↑↑↑↑↑↑↑↑↑↑↑↑↑↑↑↑↑↑↑↑↑↑↑↑↑↑↑\n",
        "# your code goes above this"
      ],
      "metadata": {
        "id": "OJDh6q2z4sKg"
      },
      "execution_count": null,
      "outputs": []
    },
    {
      "cell_type": "markdown",
      "metadata": {
        "id": "kTtE_EQ0e4JH"
      },
      "source": [
        "**Exercise 2**\n",
        "(Optional)\n",
        "\n",
        "Write a function that can shift an MNIST image in any direction (left, right, <br>\n",
        "up, or down) by five pixels. Then, for each image in the training set, create <br>\n",
        "four shifted copies (one per direction) and add them to the training set.<br> Finally, train your best model on this expanded training set and measure its <br>\n",
        "accuracy on the test set. You should observe that your model performs even<br> better now! This technique of artificially growing the training set is called <br>\n",
        "data augmentation or training set expansion."
      ]
    },
    {
      "cell_type": "markdown",
      "metadata": {
        "id": "kBqJiP1ue4JI"
      },
      "source": [
        "# Exercise 2 Solution"
      ]
    },
    {
      "cell_type": "code",
      "execution_count": null,
      "metadata": {
        "id": "aW0izGeMe4JI"
      },
      "outputs": [],
      "source": [
        "from scipy.ndimage.interpolation import shift"
      ]
    },
    {
      "cell_type": "code",
      "execution_count": null,
      "metadata": {
        "id": "F2rA7vvWe4JI"
      },
      "outputs": [],
      "source": [
        "def shift_image(image, dx, dy):\n",
        "    image = image.reshape((28, 28))\n",
        "    shifted_image = shift(image, [dy, dx], cval=0, mode=\"constant\")\n",
        "    return shifted_image.reshape([-1])"
      ]
    },
    {
      "cell_type": "code",
      "execution_count": null,
      "metadata": {
        "colab": {
          "base_uri": "https://localhost:8080/",
          "height": 231
        },
        "id": "gLbPdTa4e4JI",
        "outputId": "a685c0e0-b775-47c8-b7b1-f16a2f5a12f4"
      },
      "outputs": [
        {
          "output_type": "display_data",
          "data": {
            "text/plain": [
              "<Figure size 864x216 with 3 Axes>"
            ],
            "image/png": "[encoded data removed]"
          },
          "metadata": {
            "needs_background": "light"
          }
        }
      ],
      "source": [
        "image = X_train.values[1000]\n",
        "shifted_image_down = shift_image(image, 0, 5)\n",
        "shifted_image_left = shift_image(image, -5, 0)\n",
        "\n",
        "plt.figure(figsize=(12,3))\n",
        "plt.subplot(131)\n",
        "plt.title(\"Original\", fontsize=14)\n",
        "plt.imshow(image.reshape(28, 28), interpolation=\"nearest\", cmap=\"Greys\")\n",
        "plt.subplot(132)\n",
        "plt.title(\"Shifted down\", fontsize=14)\n",
        "plt.imshow(shifted_image_down.reshape(28, 28), interpolation=\"nearest\", cmap=\"Greys\")\n",
        "plt.subplot(133)\n",
        "plt.title(\"Shifted left\", fontsize=14)\n",
        "plt.imshow(shifted_image_left.reshape(28, 28), interpolation=\"nearest\", cmap=\"Greys\")\n",
        "plt.show()"
      ]
    },
    {
      "cell_type": "code",
      "execution_count": null,
      "metadata": {
        "id": "qqKEANPoe4JI"
      },
      "outputs": [],
      "source": [
        "X_train_augmented = [image for image in X_train.values]\n",
        "y_train_augmented = [label for label in y_train.astype(np.int8)]\n",
        "\n",
        "for dx, dy in ((1, 0), (-1, 0), (0, 1), (0, -1)):\n",
        "    for image, label in zip(X_train.values, y_train.astype(np.int8)):\n",
        "        X_train_augmented.append(shift_image(image, dx, dy))\n",
        "        y_train_augmented.append(label)\n",
        "\n",
        "X_train_augmented = np.array(X_train_augmented)\n",
        "y_train_augmented = np.array(y_train_augmented)"
      ]
    },
    {
      "cell_type": "code",
      "execution_count": null,
      "metadata": {
        "id": "dPpUQHx-e4JI"
      },
      "outputs": [],
      "source": [
        "shuffle_idx = np.random.permutation(len(X_train_augmented))\n",
        "X_train_augmented = X_train_augmented[shuffle_idx]\n",
        "y_train_augmented = y_train_augmented[shuffle_idx]"
      ]
    },
    {
      "cell_type": "code",
      "source": [
        "from sklearn.model_selection import GridSearchCV"
      ],
      "metadata": {
        "id": "2svXufsh6RJe"
      },
      "execution_count": null,
      "outputs": []
    },
    {
      "cell_type": "code",
      "source": [
        "param_grid = [{\n",
        "\"n_neighbors\": (3,4),\n",
        "\"weights\": [\"uniform\", \"distance\"]\n",
        "}]"
      ],
      "metadata": {
        "id": "-Yngfo7T61ID"
      },
      "execution_count": null,
      "outputs": []
    },
    {
      "cell_type": "code",
      "source": [
        "knn_clf = KNeighborsClassifier()"
      ],
      "metadata": {
        "id": "kbjX2OJY7-gu"
      },
      "execution_count": null,
      "outputs": []
    },
    {
      "cell_type": "code",
      "source": [
        "grid_search = GridSearchCV(knn_clf, param_grid)\n",
        "grid_search.fit(X_train.values, y_train.astype(np.int8))"
      ],
      "metadata": {
        "colab": {
          "base_uri": "https://localhost:8080/"
        },
        "id": "ZZL5xJAK6W2l",
        "outputId": "1fda46a1-388f-4fb3-e6fc-6fbbbe3426a6"
      },
      "execution_count": null,
      "outputs": [
        {
          "output_type": "execute_result",
          "data": {
            "text/plain": [
              "GridSearchCV(estimator=KNeighborsClassifier(),\n",
              "             param_grid=[{'n_neighbors': (3, 4),\n",
              "                          'weights': ['uniform', 'distance']}])"
            ]
          },
          "metadata": {},
          "execution_count": 64
        }
      ]
    },
    {
      "cell_type": "code",
      "execution_count": null,
      "metadata": {
        "id": "CDO6TUEee4JJ"
      },
      "outputs": [],
      "source": [
        "knn_clf = KNeighborsClassifier(**grid_search.best_params_)"
      ]
    },
    {
      "cell_type": "code",
      "execution_count": null,
      "metadata": {
        "colab": {
          "base_uri": "https://localhost:8080/"
        },
        "id": "7hAF1BX9e4JJ",
        "outputId": "45d660c8-f400-4557-e46a-3543b1514d1b"
      },
      "outputs": [
        {
          "output_type": "execute_result",
          "data": {
            "text/plain": [
              "KNeighborsClassifier(n_neighbors=4, weights='distance')"
            ]
          },
          "metadata": {},
          "execution_count": 66
        }
      ],
      "source": [
        "knn_clf.fit(X_train_augmented, y_train_augmented)"
      ]
    },
    {
      "cell_type": "code",
      "execution_count": null,
      "metadata": {
        "colab": {
          "base_uri": "https://localhost:8080/"
        },
        "id": "tq4VohCRe4JJ",
        "outputId": "cc018299-37f6-46f8-9fb0-1de5665e3e31"
      },
      "outputs": [
        {
          "output_type": "execute_result",
          "data": {
            "text/plain": [
              "0.9763"
            ]
          },
          "metadata": {},
          "execution_count": 68
        }
      ],
      "source": [
        "y_pred = knn_clf.predict(X_test.values)\n",
        "accuracy_score(y_test, y_pred)"
      ]
    }
  ],
  "metadata": {
    "hide_input": false,
    "kernelspec": {
      "display_name": "Python 3 (ipykernel)",
      "language": "python",
      "name": "python3"
    },
    "language_info": {
      "codemirror_mode": {
        "name": "ipython",
        "version": 3
      },
      "file_extension": ".py",
      "mimetype": "text/x-python",
      "name": "python",
      "nbconvert_exporter": "python",
      "pygments_lexer": "ipython3",
      "version": "3.8.12"
    },
    "latex_envs": {
      "LaTeX_envs_menu_present": true,
      "autoclose": false,
      "autocomplete": true,
      "bibliofile": "biblio.bib",
      "cite_by": "apalike",
      "current_citInitial": 1,
      "eqLabelWithNumbers": true,
      "eqNumInitial": 1,
      "hotkeys": {
        "equation": "Ctrl-E",
        "itemize": "Ctrl-I"
      },
      "labels_anchors": false,
      "latex_user_defs": false,
      "report_style_numbering": false,
      "user_envs_cfg": false
    },
    "nav_menu": {},
    "toc": {
      "base_numbering": 1,
      "nav_menu": {},
      "number_sections": true,
      "sideBar": true,
      "skip_h1_title": false,
      "title_cell": "Table of Contents",
      "title_sidebar": "Contents",
      "toc_cell": false,
      "toc_position": {},
      "toc_section_display": "block",
      "toc_window_display": false
    },
    "colab": {
      "provenance": [],
      "collapsed_sections": [
        "V-MpRr1Xzrqa"
      ],
      "include_colab_link": true
    }
  },
  "nbformat": 4,
  "nbformat_minor": 0
}